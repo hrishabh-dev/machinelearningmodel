{
 "cells": [
  {
   "cell_type": "code",
   "execution_count": 10,
   "id": "e95858bc-7b5c-4034-a29b-4835cc36fa43",
   "metadata": {},
   "outputs": [],
   "source": [
    "import pandas as pd \n",
    "from joblib import load \n",
    "import joblib"
   ]
  },
  {
   "cell_type": "code",
   "execution_count": 11,
   "id": "ad3a925f-f161-4eca-bad7-c84332b3359a",
   "metadata": {},
   "outputs": [],
   "source": [
    "def predict_high(open_price, low_price):\n",
    "    # Load the model and scaler\n",
    "    loaded_model = joblib.load('tatamodel.joblib')\n",
    "    loaded_scaler = joblib.load('scaler.joblib')\n",
    "\n",
    "    # Scale the input data\n",
    "    input_data = pd.DataFrame([[open_price, low_price]], columns=['Open', 'Low'])\n",
    "    scaled_input = loaded_scaler.transform(input_data)\n",
    "\n",
    "    # Predict High price\n",
    "    predicted_high = loaded_model.predict(scaled_input)\n",
    "    \n",
    "    return predicted_high[0]\n"
   ]
  },
  {
   "cell_type": "code",
   "execution_count": null,
   "id": "8654568e-3331-4d1e-aa53-655efd2d58a3",
   "metadata": {},
   "outputs": [],
   "source": [
    "open_price = float(input(\"Enter Open Price: \"))\n",
    "low_price = float(input(\"Enter Low Price: \"))\n",
    "\n",
    "predicted_high_price = predict_high(open_price, low_price)\n",
    "print(f\"The predicted High price is: {predicted_high_price:.2f}\")"
   ]
  },
  {
   "cell_type": "code",
   "execution_count": null,
   "id": "2ecd6fe7-c0ca-4156-b78e-ebcf9c49357b",
   "metadata": {},
   "outputs": [],
   "source": []
  }
 ],
 "metadata": {
  "kernelspec": {
   "display_name": "Python 3 (ipykernel)",
   "language": "python",
   "name": "python3"
  },
  "language_info": {
   "codemirror_mode": {
    "name": "ipython",
    "version": 3
   },
   "file_extension": ".py",
   "mimetype": "text/x-python",
   "name": "python",
   "nbconvert_exporter": "python",
   "pygments_lexer": "ipython3",
   "version": "3.13.1"
  }
 },
 "nbformat": 4,
 "nbformat_minor": 5
}
