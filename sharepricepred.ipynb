{
 "cells": [
  {
   "cell_type": "code",
   "execution_count": 1,
   "id": "0b461e7e-e48e-4f63-885b-3ddc26c75bf5",
   "metadata": {},
   "outputs": [],
   "source": [
    "import pandas as pd \n",
    "import warnings  \n",
    "warnings.filterwarnings('ignore')"
   ]
  },
  {
   "cell_type": "code",
   "execution_count": 2,
   "id": "1977b298-7763-4553-aa48-6be4f5d5370b",
   "metadata": {},
   "outputs": [],
   "source": [
    "df=pd.read_csv(r'C:\\Users\\hrish\\Downloads\\NIFTY 50-26-02-2024-to-26-02-2025.csv')"
   ]
  },
  {
   "cell_type": "code",
   "execution_count": 3,
   "id": "67dd0981-ed33-42e8-b556-f56d7f800d5b",
   "metadata": {},
   "outputs": [
    {
     "data": {
      "text/html": [
       "<div>\n",
       "<style scoped>\n",
       "    .dataframe tbody tr th:only-of-type {\n",
       "        vertical-align: middle;\n",
       "    }\n",
       "\n",
       "    .dataframe tbody tr th {\n",
       "        vertical-align: top;\n",
       "    }\n",
       "\n",
       "    .dataframe thead th {\n",
       "        text-align: right;\n",
       "    }\n",
       "</style>\n",
       "<table border=\"1\" class=\"dataframe\">\n",
       "  <thead>\n",
       "    <tr style=\"text-align: right;\">\n",
       "      <th></th>\n",
       "      <th>Date</th>\n",
       "      <th>Open</th>\n",
       "      <th>High</th>\n",
       "      <th>Low</th>\n",
       "      <th>Close</th>\n",
       "      <th>Shares Traded</th>\n",
       "      <th>Turnover (₹ Cr)</th>\n",
       "    </tr>\n",
       "  </thead>\n",
       "  <tbody>\n",
       "    <tr>\n",
       "      <th>0</th>\n",
       "      <td>26-FEB-2024</td>\n",
       "      <td>22169.2</td>\n",
       "      <td>22202.15</td>\n",
       "      <td>22075.15</td>\n",
       "      <td>22122.05</td>\n",
       "      <td>207775504</td>\n",
       "      <td>20850.26</td>\n",
       "    </tr>\n",
       "    <tr>\n",
       "      <th>1</th>\n",
       "      <td>27-FEB-2024</td>\n",
       "      <td>22090.2</td>\n",
       "      <td>22218.25</td>\n",
       "      <td>22085.65</td>\n",
       "      <td>22198.35</td>\n",
       "      <td>252199186</td>\n",
       "      <td>24620.71</td>\n",
       "    </tr>\n",
       "    <tr>\n",
       "      <th>2</th>\n",
       "      <td>28-FEB-2024</td>\n",
       "      <td>22214.1</td>\n",
       "      <td>22229.15</td>\n",
       "      <td>21915.85</td>\n",
       "      <td>21951.15</td>\n",
       "      <td>202952371</td>\n",
       "      <td>20579.80</td>\n",
       "    </tr>\n",
       "    <tr>\n",
       "      <th>3</th>\n",
       "      <td>29-FEB-2024</td>\n",
       "      <td>21935.2</td>\n",
       "      <td>22060.55</td>\n",
       "      <td>21860.65</td>\n",
       "      <td>21982.80</td>\n",
       "      <td>360165824</td>\n",
       "      <td>40196.12</td>\n",
       "    </tr>\n",
       "    <tr>\n",
       "      <th>4</th>\n",
       "      <td>01-MAR-2024</td>\n",
       "      <td>22048.3</td>\n",
       "      <td>22353.30</td>\n",
       "      <td>22047.75</td>\n",
       "      <td>22338.75</td>\n",
       "      <td>351503075</td>\n",
       "      <td>29646.47</td>\n",
       "    </tr>\n",
       "  </tbody>\n",
       "</table>\n",
       "</div>"
      ],
      "text/plain": [
       "         Date     Open      High       Low     Close   Shares Traded   \\\n",
       "0  26-FEB-2024  22169.2  22202.15  22075.15  22122.05       207775504   \n",
       "1  27-FEB-2024  22090.2  22218.25  22085.65  22198.35       252199186   \n",
       "2  28-FEB-2024  22214.1  22229.15  21915.85  21951.15       202952371   \n",
       "3  29-FEB-2024  21935.2  22060.55  21860.65  21982.80       360165824   \n",
       "4  01-MAR-2024  22048.3  22353.30  22047.75  22338.75       351503075   \n",
       "\n",
       "   Turnover (₹ Cr)  \n",
       "0         20850.26  \n",
       "1         24620.71  \n",
       "2         20579.80  \n",
       "3         40196.12  \n",
       "4         29646.47  "
      ]
     },
     "execution_count": 3,
     "metadata": {},
     "output_type": "execute_result"
    }
   ],
   "source": [
    "df.head()"
   ]
  },
  {
   "cell_type": "code",
   "execution_count": 4,
   "id": "6ade072e-901c-4c27-bc6c-684d52f41870",
   "metadata": {},
   "outputs": [
    {
     "data": {
      "text/plain": [
       "Index(['Date ', 'Open ', 'High ', 'Low ', 'Close ', 'Shares Traded ',\n",
       "       'Turnover (₹ Cr)'],\n",
       "      dtype='object')"
      ]
     },
     "execution_count": 4,
     "metadata": {},
     "output_type": "execute_result"
    }
   ],
   "source": [
    "df.columns"
   ]
  },
  {
   "cell_type": "code",
   "execution_count": 5,
   "id": "a019eeba-553e-48a4-bb17-72078134dcf4",
   "metadata": {},
   "outputs": [],
   "source": [
    "df.drop('Date ', axis=1, inplace=True)"
   ]
  },
  {
   "cell_type": "code",
   "execution_count": 6,
   "id": "3187bd42-683a-48df-a168-bc2e453253ff",
   "metadata": {},
   "outputs": [
    {
     "data": {
      "text/html": [
       "<div>\n",
       "<style scoped>\n",
       "    .dataframe tbody tr th:only-of-type {\n",
       "        vertical-align: middle;\n",
       "    }\n",
       "\n",
       "    .dataframe tbody tr th {\n",
       "        vertical-align: top;\n",
       "    }\n",
       "\n",
       "    .dataframe thead th {\n",
       "        text-align: right;\n",
       "    }\n",
       "</style>\n",
       "<table border=\"1\" class=\"dataframe\">\n",
       "  <thead>\n",
       "    <tr style=\"text-align: right;\">\n",
       "      <th></th>\n",
       "      <th>Open</th>\n",
       "      <th>High</th>\n",
       "      <th>Low</th>\n",
       "      <th>Close</th>\n",
       "      <th>Shares Traded</th>\n",
       "      <th>Turnover (₹ Cr)</th>\n",
       "    </tr>\n",
       "  </thead>\n",
       "  <tbody>\n",
       "    <tr>\n",
       "      <th>0</th>\n",
       "      <td>22169.2</td>\n",
       "      <td>22202.15</td>\n",
       "      <td>22075.15</td>\n",
       "      <td>22122.05</td>\n",
       "      <td>207775504</td>\n",
       "      <td>20850.26</td>\n",
       "    </tr>\n",
       "    <tr>\n",
       "      <th>1</th>\n",
       "      <td>22090.2</td>\n",
       "      <td>22218.25</td>\n",
       "      <td>22085.65</td>\n",
       "      <td>22198.35</td>\n",
       "      <td>252199186</td>\n",
       "      <td>24620.71</td>\n",
       "    </tr>\n",
       "    <tr>\n",
       "      <th>2</th>\n",
       "      <td>22214.1</td>\n",
       "      <td>22229.15</td>\n",
       "      <td>21915.85</td>\n",
       "      <td>21951.15</td>\n",
       "      <td>202952371</td>\n",
       "      <td>20579.80</td>\n",
       "    </tr>\n",
       "    <tr>\n",
       "      <th>3</th>\n",
       "      <td>21935.2</td>\n",
       "      <td>22060.55</td>\n",
       "      <td>21860.65</td>\n",
       "      <td>21982.80</td>\n",
       "      <td>360165824</td>\n",
       "      <td>40196.12</td>\n",
       "    </tr>\n",
       "    <tr>\n",
       "      <th>4</th>\n",
       "      <td>22048.3</td>\n",
       "      <td>22353.30</td>\n",
       "      <td>22047.75</td>\n",
       "      <td>22338.75</td>\n",
       "      <td>351503075</td>\n",
       "      <td>29646.47</td>\n",
       "    </tr>\n",
       "  </tbody>\n",
       "</table>\n",
       "</div>"
      ],
      "text/plain": [
       "     Open      High       Low     Close   Shares Traded   Turnover (₹ Cr)\n",
       "0  22169.2  22202.15  22075.15  22122.05       207775504         20850.26\n",
       "1  22090.2  22218.25  22085.65  22198.35       252199186         24620.71\n",
       "2  22214.1  22229.15  21915.85  21951.15       202952371         20579.80\n",
       "3  21935.2  22060.55  21860.65  21982.80       360165824         40196.12\n",
       "4  22048.3  22353.30  22047.75  22338.75       351503075         29646.47"
      ]
     },
     "execution_count": 6,
     "metadata": {},
     "output_type": "execute_result"
    }
   ],
   "source": [
    "df.head()"
   ]
  },
  {
   "cell_type": "code",
   "execution_count": 7,
   "id": "63dd9f12-5704-4a8e-a82e-75e93a689af0",
   "metadata": {},
   "outputs": [],
   "source": [
    "df.drop('Shares Traded ',axis=1,inplace=True)"
   ]
  },
  {
   "cell_type": "code",
   "execution_count": 8,
   "id": "4d0b0a2c-b5ca-46d6-87c7-ba01961f9ba7",
   "metadata": {},
   "outputs": [],
   "source": [
    "df.drop('Turnover (₹ Cr)',axis=1,inplace=True)"
   ]
  },
  {
   "cell_type": "code",
   "execution_count": 9,
   "id": "3307590c-4b56-46b7-ae11-1286bbf00cb0",
   "metadata": {},
   "outputs": [
    {
     "data": {
      "text/html": [
       "<div>\n",
       "<style scoped>\n",
       "    .dataframe tbody tr th:only-of-type {\n",
       "        vertical-align: middle;\n",
       "    }\n",
       "\n",
       "    .dataframe tbody tr th {\n",
       "        vertical-align: top;\n",
       "    }\n",
       "\n",
       "    .dataframe thead th {\n",
       "        text-align: right;\n",
       "    }\n",
       "</style>\n",
       "<table border=\"1\" class=\"dataframe\">\n",
       "  <thead>\n",
       "    <tr style=\"text-align: right;\">\n",
       "      <th></th>\n",
       "      <th>Open</th>\n",
       "      <th>High</th>\n",
       "      <th>Low</th>\n",
       "      <th>Close</th>\n",
       "    </tr>\n",
       "  </thead>\n",
       "  <tbody>\n",
       "    <tr>\n",
       "      <th>0</th>\n",
       "      <td>22169.20</td>\n",
       "      <td>22202.15</td>\n",
       "      <td>22075.15</td>\n",
       "      <td>22122.05</td>\n",
       "    </tr>\n",
       "    <tr>\n",
       "      <th>1</th>\n",
       "      <td>22090.20</td>\n",
       "      <td>22218.25</td>\n",
       "      <td>22085.65</td>\n",
       "      <td>22198.35</td>\n",
       "    </tr>\n",
       "    <tr>\n",
       "      <th>2</th>\n",
       "      <td>22214.10</td>\n",
       "      <td>22229.15</td>\n",
       "      <td>21915.85</td>\n",
       "      <td>21951.15</td>\n",
       "    </tr>\n",
       "    <tr>\n",
       "      <th>3</th>\n",
       "      <td>21935.20</td>\n",
       "      <td>22060.55</td>\n",
       "      <td>21860.65</td>\n",
       "      <td>21982.80</td>\n",
       "    </tr>\n",
       "    <tr>\n",
       "      <th>4</th>\n",
       "      <td>22048.30</td>\n",
       "      <td>22353.30</td>\n",
       "      <td>22047.75</td>\n",
       "      <td>22338.75</td>\n",
       "    </tr>\n",
       "    <tr>\n",
       "      <th>...</th>\n",
       "      <td>...</td>\n",
       "      <td>...</td>\n",
       "      <td>...</td>\n",
       "      <td>...</td>\n",
       "    </tr>\n",
       "    <tr>\n",
       "      <th>246</th>\n",
       "      <td>22847.25</td>\n",
       "      <td>23049.95</td>\n",
       "      <td>22814.85</td>\n",
       "      <td>22932.90</td>\n",
       "    </tr>\n",
       "    <tr>\n",
       "      <th>247</th>\n",
       "      <td>22821.10</td>\n",
       "      <td>22923.85</td>\n",
       "      <td>22812.75</td>\n",
       "      <td>22913.15</td>\n",
       "    </tr>\n",
       "    <tr>\n",
       "      <th>248</th>\n",
       "      <td>22857.20</td>\n",
       "      <td>22921.00</td>\n",
       "      <td>22720.30</td>\n",
       "      <td>22795.90</td>\n",
       "    </tr>\n",
       "    <tr>\n",
       "      <th>249</th>\n",
       "      <td>22609.35</td>\n",
       "      <td>22668.05</td>\n",
       "      <td>22518.80</td>\n",
       "      <td>22553.35</td>\n",
       "    </tr>\n",
       "    <tr>\n",
       "      <th>250</th>\n",
       "      <td>22516.45</td>\n",
       "      <td>22625.30</td>\n",
       "      <td>22513.90</td>\n",
       "      <td>22547.55</td>\n",
       "    </tr>\n",
       "  </tbody>\n",
       "</table>\n",
       "<p>251 rows × 4 columns</p>\n",
       "</div>"
      ],
      "text/plain": [
       "        Open      High       Low     Close \n",
       "0    22169.20  22202.15  22075.15  22122.05\n",
       "1    22090.20  22218.25  22085.65  22198.35\n",
       "2    22214.10  22229.15  21915.85  21951.15\n",
       "3    21935.20  22060.55  21860.65  21982.80\n",
       "4    22048.30  22353.30  22047.75  22338.75\n",
       "..        ...       ...       ...       ...\n",
       "246  22847.25  23049.95  22814.85  22932.90\n",
       "247  22821.10  22923.85  22812.75  22913.15\n",
       "248  22857.20  22921.00  22720.30  22795.90\n",
       "249  22609.35  22668.05  22518.80  22553.35\n",
       "250  22516.45  22625.30  22513.90  22547.55\n",
       "\n",
       "[251 rows x 4 columns]"
      ]
     },
     "execution_count": 9,
     "metadata": {},
     "output_type": "execute_result"
    }
   ],
   "source": [
    "df"
   ]
  },
  {
   "cell_type": "code",
   "execution_count": 10,
   "id": "b2202201-a99f-40af-bc87-7aeed6be9a3a",
   "metadata": {},
   "outputs": [],
   "source": [
    "import pandas as pd\n",
    "from sklearn.model_selection import train_test_split\n",
    "from sklearn.linear_model import LinearRegression\n",
    "from sklearn.ensemble import RandomForestRegressor\n",
    "from sklearn.svm import SVR\n",
    "from sklearn.metrics import mean_squared_error\n",
    "from sklearn.preprocessing import StandardScaler\n",
    "from sklearn.model_selection import train_test_split\n",
    "from sklearn.linear_model import LinearRegression\n",
    "from sklearn.ensemble import RandomForestRegressor\n",
    "from sklearn.svm import SVR\n",
    "from sklearn.metrics import mean_squared_error\n",
    "from sklearn.preprocessing import StandardScaler"
   ]
  },
  {
   "cell_type": "code",
   "execution_count": 11,
   "id": "99149e79-1c5c-4446-94b2-2b81e3afb84e",
   "metadata": {},
   "outputs": [],
   "source": [
    "X = df[['Open ','High ', 'Low ']]\n",
    "y = df['Close ']"
   ]
  },
  {
   "cell_type": "code",
   "execution_count": 12,
   "id": "8816e237-9967-48a7-a7f1-076c1806a105",
   "metadata": {},
   "outputs": [],
   "source": [
    "X_train, X_test, y_train, y_test = train_test_split(X, y, test_size=0.2, random_state=42)"
   ]
  },
  {
   "cell_type": "code",
   "execution_count": 13,
   "id": "942c4c88-0a9f-42e9-afe1-9c597fab559a",
   "metadata": {},
   "outputs": [],
   "source": [
    "models = {\n",
    "    \"Linear Regression\": LinearRegression(),\n",
    "    \"Random Forest\": RandomForestRegressor(),\n",
    "    \"Support Vector Regression\": SVR()\n",
    "}"
   ]
  },
  {
   "cell_type": "code",
   "execution_count": 14,
   "id": "3c3b2507-1d7b-487d-be34-b2d7f3b4cff3",
   "metadata": {},
   "outputs": [],
   "source": [
    "from sklearn.metrics import r2_score"
   ]
  },
  {
   "cell_type": "code",
   "execution_count": 15,
   "id": "0de9bb0c-6271-48c2-9baf-8af8791c2732",
   "metadata": {},
   "outputs": [
    {
     "name": "stdout",
     "output_type": "stream",
     "text": [
      "Linear Regression: Mean Squared Error = 4820.48, R² Score = 1.00\n",
      "Random Forest: Mean Squared Error = 10940.85, R² Score = 0.99\n",
      "Support Vector Regression: Mean Squared Error = 961810.45, R² Score = 0.07\n"
     ]
    }
   ],
   "source": [
    "results = {}\n",
    "\n",
    "# Train each model and evaluate\n",
    "for name, model in models.items():\n",
    "    # Fit the model\n",
    "    model.fit(X_train, y_train)\n",
    "    \n",
    "    # Make predictions\n",
    "    y_pred = model.predict(X_test)\n",
    "    \n",
    "    # Calculate the mean squared error and R² score\n",
    "    mse = mean_squared_error(y_test, y_pred)\n",
    "    r2 = r2_score(y_test, y_pred)\n",
    "    \n",
    "    # Store the results\n",
    "    results[name] = {\"MSE\": mse, \"R² Score\": r2}\n",
    "\n",
    "# Display the results\n",
    "for name, metrics in results.items():\n",
    "    print(f\"{name}: Mean Squared Error = {metrics['MSE']:.2f}, R² Score = {metrics['R² Score']:.2f}\")"
   ]
  },
  {
   "cell_type": "code",
   "execution_count": 16,
   "id": "7f3e72e4-35e4-41ba-96d5-b2a8a8e2715c",
   "metadata": {},
   "outputs": [
    {
     "data": {
      "text/plain": [
       "Index(['Open ', 'High ', 'Low ', 'Close '], dtype='object')"
      ]
     },
     "execution_count": 16,
     "metadata": {},
     "output_type": "execute_result"
    }
   ],
   "source": [
    "df.columns"
   ]
  },
  {
   "cell_type": "code",
   "execution_count": 17,
   "id": "f9629ebb-4505-40b7-972d-37c205b00f81",
   "metadata": {},
   "outputs": [],
   "source": [
    "X=df[['Open ','High ', 'Low ' ]]\n",
    "y=df['Close ' ]"
   ]
  },
  {
   "cell_type": "code",
   "execution_count": 18,
   "id": "aab8a74a-f39a-4e39-8956-6e60061fe07a",
   "metadata": {},
   "outputs": [],
   "source": [
    "from joblib import dump, load"
   ]
  },
  {
   "cell_type": "code",
   "execution_count": 19,
   "id": "fbd0c785-9d18-4c14-aa4f-844a3f39f0c5",
   "metadata": {},
   "outputs": [
    {
     "data": {
      "text/plain": [
       "0.995315992570037"
      ]
     },
     "execution_count": 19,
     "metadata": {},
     "output_type": "execute_result"
    }
   ],
   "source": [
    "X_train, X_test, y_train, y_test = train_test_split(X, y, test_size=0.2, random_state=42)\n",
    "\n",
    "# Create and train the linear regression model\n",
    "model = LinearRegression()\n",
    "model.fit(X_train, y_train)\n",
    "dump(model, 'line_1111.joblib')\n",
    "# Calculate the mean squared error and R² score\n",
    "y_pred = model.predict(X_test)\n",
    "mse = mean_squared_error(y_test, y_pred)\n",
    "r2 = r2_score(y_test, y_pred)\n",
    "r2"
   ]
  },
  {
   "cell_type": "code",
   "execution_count": 20,
   "id": "6debe676-7b8e-4eb6-bf8b-e15ed0949c95",
   "metadata": {},
   "outputs": [],
   "source": [
    "def predict_close(open_value, high_value, low_value):\n",
    "    \"\"\"Predict Close price based on Open, High, and Low prices.\"\"\"\n",
    "    # Convert the input values into a DataFrame\n",
    "    input_array = pd.DataFrame([[open_value, high_value, low_value]], columns=['Open ', 'High ', 'Low '])\n",
    "    # Predict the Close price using the trained model\n",
    "    predicted_close = model.predict(input_array)\n",
    "    \n",
    "    return predicted_close[0]"
   ]
  },
  {
   "cell_type": "code",
   "execution_count": 21,
   "id": "bd1239fe-e692-4b05-bf68-345412c996be",
   "metadata": {},
   "outputs": [
    {
     "name": "stdout",
     "output_type": "stream",
     "text": [
      "The predicted Close price is: 22572.400683926528\n"
     ]
    }
   ],
   "source": [
    "open_price = 22568.95\n",
    "high_price = 22613\n",
    "low_price = 22535.05\n",
    "predicted_close = predict_close(open_price, high_price, low_price)\n",
    "print(f\"The predicted Close price is: {predicted_close}\")"
   ]
  },
  {
   "cell_type": "code",
   "execution_count": null,
   "id": "9f7e9224-0d57-4be7-99b7-0768d5efbdb2",
   "metadata": {},
   "outputs": [],
   "source": []
  }
 ],
 "metadata": {
  "kernelspec": {
   "display_name": "Python 3 (ipykernel)",
   "language": "python",
   "name": "python3"
  },
  "language_info": {
   "codemirror_mode": {
    "name": "ipython",
    "version": 3
   },
   "file_extension": ".py",
   "mimetype": "text/x-python",
   "name": "python",
   "nbconvert_exporter": "python",
   "pygments_lexer": "ipython3",
   "version": "3.13.1"
  }
 },
 "nbformat": 4,
 "nbformat_minor": 5
}
