{
 "cells": [
  {
   "cell_type": "code",
   "execution_count": 5,
   "id": "8af2dd6f-c08d-4175-944b-52606f4b48e4",
   "metadata": {},
   "outputs": [],
   "source": [
    "import pandas as pd \n",
    "from sklearn.model_selection import train_test_split"
   ]
  },
  {
   "cell_type": "code",
   "execution_count": 7,
   "id": "9865ee54-dece-4cbb-9e96-e3f4fe5da5e6",
   "metadata": {},
   "outputs": [],
   "source": [
    "df=pd.read_csv(r'C:\\Users\\hrish\\Downloads\\bank-nifty-1h-data.csv')"
   ]
  },
  {
   "cell_type": "code",
   "execution_count": 8,
   "id": "1c77e50d-abb1-4d41-9b09-9d4ebd1327af",
   "metadata": {},
   "outputs": [
    {
     "data": {
      "text/html": [
       "<div>\n",
       "<style scoped>\n",
       "    .dataframe tbody tr th:only-of-type {\n",
       "        vertical-align: middle;\n",
       "    }\n",
       "\n",
       "    .dataframe tbody tr th {\n",
       "        vertical-align: top;\n",
       "    }\n",
       "\n",
       "    .dataframe thead th {\n",
       "        text-align: right;\n",
       "    }\n",
       "</style>\n",
       "<table border=\"1\" class=\"dataframe\">\n",
       "  <thead>\n",
       "    <tr style=\"text-align: right;\">\n",
       "      <th></th>\n",
       "      <th>Instrument</th>\n",
       "      <th>Date</th>\n",
       "      <th>Time</th>\n",
       "      <th>Open</th>\n",
       "      <th>High</th>\n",
       "      <th>Low</th>\n",
       "      <th>Close</th>\n",
       "    </tr>\n",
       "  </thead>\n",
       "  <tbody>\n",
       "    <tr>\n",
       "      <th>15946</th>\n",
       "      <td>Banknifty</td>\n",
       "      <td>04-04-2024</td>\n",
       "      <td>11:15:00</td>\n",
       "      <td>47928.75</td>\n",
       "      <td>47943.05</td>\n",
       "      <td>47804.90</td>\n",
       "      <td>47849.70</td>\n",
       "    </tr>\n",
       "    <tr>\n",
       "      <th>15947</th>\n",
       "      <td>Banknifty</td>\n",
       "      <td>04-04-2024</td>\n",
       "      <td>12:15:00</td>\n",
       "      <td>47849.70</td>\n",
       "      <td>48053.95</td>\n",
       "      <td>47842.55</td>\n",
       "      <td>48016.90</td>\n",
       "    </tr>\n",
       "    <tr>\n",
       "      <th>15948</th>\n",
       "      <td>Banknifty</td>\n",
       "      <td>04-04-2024</td>\n",
       "      <td>13:15:00</td>\n",
       "      <td>48009.20</td>\n",
       "      <td>48145.70</td>\n",
       "      <td>47896.15</td>\n",
       "      <td>47992.75</td>\n",
       "    </tr>\n",
       "    <tr>\n",
       "      <th>15949</th>\n",
       "      <td>Banknifty</td>\n",
       "      <td>04-04-2024</td>\n",
       "      <td>14:15:00</td>\n",
       "      <td>47990.45</td>\n",
       "      <td>48125.60</td>\n",
       "      <td>47975.55</td>\n",
       "      <td>48051.00</td>\n",
       "    </tr>\n",
       "    <tr>\n",
       "      <th>15950</th>\n",
       "      <td>Banknifty</td>\n",
       "      <td>04-04-2024</td>\n",
       "      <td>15:15:00</td>\n",
       "      <td>48053.10</td>\n",
       "      <td>48139.90</td>\n",
       "      <td>48039.25</td>\n",
       "      <td>48126.20</td>\n",
       "    </tr>\n",
       "  </tbody>\n",
       "</table>\n",
       "</div>"
      ],
      "text/plain": [
       "      Instrument        Date      Time      Open      High       Low     Close\n",
       "15946  Banknifty  04-04-2024  11:15:00  47928.75  47943.05  47804.90  47849.70\n",
       "15947  Banknifty  04-04-2024  12:15:00  47849.70  48053.95  47842.55  48016.90\n",
       "15948  Banknifty  04-04-2024  13:15:00  48009.20  48145.70  47896.15  47992.75\n",
       "15949  Banknifty  04-04-2024  14:15:00  47990.45  48125.60  47975.55  48051.00\n",
       "15950  Banknifty  04-04-2024  15:15:00  48053.10  48139.90  48039.25  48126.20"
      ]
     },
     "execution_count": 8,
     "metadata": {},
     "output_type": "execute_result"
    }
   ],
   "source": [
    "df.tail()"
   ]
  },
  {
   "cell_type": "code",
   "execution_count": 11,
   "id": "d732189f-e821-4a90-adf3-5a5e7ccb94b3",
   "metadata": {},
   "outputs": [],
   "source": [
    "df.drop('Instrument',axis=1,inplace=True)"
   ]
  },
  {
   "cell_type": "code",
   "execution_count": 12,
   "id": "8b4ffce7-46ac-4771-9a6a-833e4f14a87c",
   "metadata": {},
   "outputs": [],
   "source": [
    "df.drop('Date',axis=1,inplace=True)"
   ]
  },
  {
   "cell_type": "code",
   "execution_count": 14,
   "id": "3c0e3ec7-ccac-4eb7-9211-c1e6331b44cf",
   "metadata": {},
   "outputs": [
    {
     "data": {
      "text/plain": [
       "Index(['Time', 'Open', 'High', 'Low', 'Close'], dtype='object')"
      ]
     },
     "execution_count": 14,
     "metadata": {},
     "output_type": "execute_result"
    }
   ],
   "source": [
    "df.columns"
   ]
  },
  {
   "cell_type": "code",
   "execution_count": 15,
   "id": "59f671ad-c73a-4abf-b682-b8e0d44645ff",
   "metadata": {},
   "outputs": [],
   "source": [
    "df.drop('Time',axis=1,inplace=True)"
   ]
  },
  {
   "cell_type": "code",
   "execution_count": 16,
   "id": "050fa859-b8d2-4019-a956-9a300815b7c9",
   "metadata": {},
   "outputs": [
    {
     "data": {
      "text/html": [
       "<div>\n",
       "<style scoped>\n",
       "    .dataframe tbody tr th:only-of-type {\n",
       "        vertical-align: middle;\n",
       "    }\n",
       "\n",
       "    .dataframe tbody tr th {\n",
       "        vertical-align: top;\n",
       "    }\n",
       "\n",
       "    .dataframe thead th {\n",
       "        text-align: right;\n",
       "    }\n",
       "</style>\n",
       "<table border=\"1\" class=\"dataframe\">\n",
       "  <thead>\n",
       "    <tr style=\"text-align: right;\">\n",
       "      <th></th>\n",
       "      <th>Open</th>\n",
       "      <th>High</th>\n",
       "      <th>Low</th>\n",
       "      <th>Close</th>\n",
       "    </tr>\n",
       "  </thead>\n",
       "  <tbody>\n",
       "    <tr>\n",
       "      <th>0</th>\n",
       "      <td>18845.90</td>\n",
       "      <td>18864.00</td>\n",
       "      <td>18758.50</td>\n",
       "      <td>18781.15</td>\n",
       "    </tr>\n",
       "    <tr>\n",
       "      <th>1</th>\n",
       "      <td>18781.15</td>\n",
       "      <td>18807.10</td>\n",
       "      <td>18745.60</td>\n",
       "      <td>18779.35</td>\n",
       "    </tr>\n",
       "    <tr>\n",
       "      <th>2</th>\n",
       "      <td>18779.35</td>\n",
       "      <td>18783.70</td>\n",
       "      <td>18570.85</td>\n",
       "      <td>18616.35</td>\n",
       "    </tr>\n",
       "    <tr>\n",
       "      <th>3</th>\n",
       "      <td>18616.35</td>\n",
       "      <td>18653.30</td>\n",
       "      <td>18517.25</td>\n",
       "      <td>18565.95</td>\n",
       "    </tr>\n",
       "    <tr>\n",
       "      <th>4</th>\n",
       "      <td>18569.40</td>\n",
       "      <td>18606.10</td>\n",
       "      <td>18479.65</td>\n",
       "      <td>18514.15</td>\n",
       "    </tr>\n",
       "    <tr>\n",
       "      <th>...</th>\n",
       "      <td>...</td>\n",
       "      <td>...</td>\n",
       "      <td>...</td>\n",
       "      <td>...</td>\n",
       "    </tr>\n",
       "    <tr>\n",
       "      <th>15946</th>\n",
       "      <td>47928.75</td>\n",
       "      <td>47943.05</td>\n",
       "      <td>47804.90</td>\n",
       "      <td>47849.70</td>\n",
       "    </tr>\n",
       "    <tr>\n",
       "      <th>15947</th>\n",
       "      <td>47849.70</td>\n",
       "      <td>48053.95</td>\n",
       "      <td>47842.55</td>\n",
       "      <td>48016.90</td>\n",
       "    </tr>\n",
       "    <tr>\n",
       "      <th>15948</th>\n",
       "      <td>48009.20</td>\n",
       "      <td>48145.70</td>\n",
       "      <td>47896.15</td>\n",
       "      <td>47992.75</td>\n",
       "    </tr>\n",
       "    <tr>\n",
       "      <th>15949</th>\n",
       "      <td>47990.45</td>\n",
       "      <td>48125.60</td>\n",
       "      <td>47975.55</td>\n",
       "      <td>48051.00</td>\n",
       "    </tr>\n",
       "    <tr>\n",
       "      <th>15950</th>\n",
       "      <td>48053.10</td>\n",
       "      <td>48139.90</td>\n",
       "      <td>48039.25</td>\n",
       "      <td>48126.20</td>\n",
       "    </tr>\n",
       "  </tbody>\n",
       "</table>\n",
       "<p>15951 rows × 4 columns</p>\n",
       "</div>"
      ],
      "text/plain": [
       "           Open      High       Low     Close\n",
       "0      18845.90  18864.00  18758.50  18781.15\n",
       "1      18781.15  18807.10  18745.60  18779.35\n",
       "2      18779.35  18783.70  18570.85  18616.35\n",
       "3      18616.35  18653.30  18517.25  18565.95\n",
       "4      18569.40  18606.10  18479.65  18514.15\n",
       "...         ...       ...       ...       ...\n",
       "15946  47928.75  47943.05  47804.90  47849.70\n",
       "15947  47849.70  48053.95  47842.55  48016.90\n",
       "15948  48009.20  48145.70  47896.15  47992.75\n",
       "15949  47990.45  48125.60  47975.55  48051.00\n",
       "15950  48053.10  48139.90  48039.25  48126.20\n",
       "\n",
       "[15951 rows x 4 columns]"
      ]
     },
     "execution_count": 16,
     "metadata": {},
     "output_type": "execute_result"
    }
   ],
   "source": [
    "df"
   ]
  },
  {
   "cell_type": "code",
   "execution_count": 18,
   "id": "93f0bac6-2df4-44b4-84d2-e74890e4108c",
   "metadata": {},
   "outputs": [],
   "source": [
    "X = df[['Open','High', 'Low']]\n",
    "y = df['Close']"
   ]
  },
  {
   "cell_type": "code",
   "execution_count": 19,
   "id": "61f91563-ddfc-4782-b270-41c0b64579dd",
   "metadata": {},
   "outputs": [],
   "source": [
    "X_train, X_test, y_train, y_test = train_test_split(X, y, test_size=0.2, random_state=42)"
   ]
  },
  {
   "cell_type": "code",
   "execution_count": 1,
   "id": "fbdae667-6457-454a-aabb-e3a30f5c624c",
   "metadata": {},
   "outputs": [],
   "source": [
    "import pandas as pd\n",
    "from sklearn.model_selection import train_test_split\n",
    "from sklearn.linear_model import LinearRegression\n",
    "from sklearn.ensemble import RandomForestRegressor\n",
    "from sklearn.svm import SVR\n",
    "from sklearn.metrics import mean_squared_error\n",
    "from sklearn.preprocessing import StandardScaler\n",
    "from sklearn.model_selection import train_test_split\n",
    "from sklearn.linear_model import LinearRegression\n",
    "from sklearn.ensemble import RandomForestRegressor\n",
    "from sklearn.svm import SVR\n",
    "from sklearn.metrics import mean_squared_error\n",
    "from sklearn.preprocessing import StandardScaler"
   ]
  },
  {
   "cell_type": "code",
   "execution_count": 3,
   "id": "7652b6ff-1ce4-4458-916c-e242a4486d71",
   "metadata": {},
   "outputs": [],
   "source": [
    "from sklearn.metrics import r2_score\n",
    "from sklearn.tree import DecisionTreeRegressor"
   ]
  },
  {
   "cell_type": "code",
   "execution_count": 4,
   "id": "9f73594e-89d9-4429-ba1a-662d609a44d7",
   "metadata": {},
   "outputs": [],
   "source": [
    "models = {\n",
    "    \"Linear Regression\": LinearRegression(),\n",
    "    \"Random Forest\": RandomForestRegressor(),\n",
    "    \"Support Vector Regression\": SVR(),\n",
    "    \"decisiontree \":DecisionTreeRegressor()\n",
    "}"
   ]
  },
  {
   "cell_type": "code",
   "execution_count": 20,
   "id": "567b9ba8-db57-407e-8944-3e1f3a7f3d6d",
   "metadata": {},
   "outputs": [
    {
     "name": "stdout",
     "output_type": "stream",
     "text": [
      "Linear Regression: Mean Squared Error = 2633.34, R² Score = 1.00\n",
      "Random Forest: Mean Squared Error = 3746.06, R² Score = 1.00\n",
      "Support Vector Regression: Mean Squared Error = 40321793.66, R² Score = 0.52\n",
      "decisiontree : Mean Squared Error = 6685.67, R² Score = 1.00\n"
     ]
    }
   ],
   "source": [
    "results = {}\n",
    "\n",
    "# Train each model and evaluate\n",
    "for name, model in models.items():\n",
    "    # Fit the model\n",
    "    model.fit(X_train, y_train)\n",
    "    \n",
    "    # Make predictions\n",
    "    y_pred = model.predict(X_test)\n",
    "    \n",
    "    # Calculate the mean squared error and R² score\n",
    "    mse = mean_squared_error(y_test, y_pred)\n",
    "    r2 = r2_score(y_test, y_pred)\n",
    "    \n",
    "    # Store the results\n",
    "    results[name] = {\"MSE\": mse, \"R² Score\": r2}\n",
    "\n",
    "# Display the results\n",
    "for name, metrics in results.items():\n",
    "    print(f\"{name}: Mean Squared Error = {metrics['MSE']:.2f}, R² Score = {metrics['R² Score']:.2f}\")"
   ]
  },
  {
   "cell_type": "code",
   "execution_count": 22,
   "id": "099a6fbe-2258-4968-870a-72982c1941e1",
   "metadata": {},
   "outputs": [],
   "source": [
    "from joblib import dump, load"
   ]
  },
  {
   "cell_type": "code",
   "execution_count": 23,
   "id": "1a8e87f2-3358-4ec3-a839-40b1efe36d74",
   "metadata": {},
   "outputs": [
    {
     "data": {
      "text/plain": [
       "0.9999689419199679"
      ]
     },
     "execution_count": 23,
     "metadata": {},
     "output_type": "execute_result"
    }
   ],
   "source": [
    "model = LinearRegression()\n",
    "model.fit(X_train, y_train)\n",
    "dump(model, 'banknifty.joblib')\n",
    "# Calculate the mean squared error and R² score\n",
    "y_pred = model.predict(X_test)\n",
    "mse = mean_squared_error(y_test, y_pred)\n",
    "r2 = r2_score(y_test, y_pred)\n",
    "r2"
   ]
  },
  {
   "cell_type": "code",
   "execution_count": null,
   "id": "76b64c8f-0f58-44ac-91ac-238ca0255fad",
   "metadata": {},
   "outputs": [],
   "source": []
  }
 ],
 "metadata": {
  "kernelspec": {
   "display_name": "Python 3 (ipykernel)",
   "language": "python",
   "name": "python3"
  },
  "language_info": {
   "codemirror_mode": {
    "name": "ipython",
    "version": 3
   },
   "file_extension": ".py",
   "mimetype": "text/x-python",
   "name": "python",
   "nbconvert_exporter": "python",
   "pygments_lexer": "ipython3",
   "version": "3.13.1"
  }
 },
 "nbformat": 4,
 "nbformat_minor": 5
}
